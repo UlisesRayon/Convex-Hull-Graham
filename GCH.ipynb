{
 "cells": [
  {
   "cell_type": "markdown",
   "metadata": {},
   "source": [
    "# Finding the Convex Hull with Grahm Scan-Code\n",
    "\n",
    "The first steps, on the same way than my Jarvis Code, are define a pair of useful (and powerful) functions.\n",
    "\n",
    "The core of this algorithm lies in this functions. I suggest you, before use my code, read the [algorithm](https://en.wikipedia.org/wiki/Graham_scan)."
   ]
  },
  {
   "cell_type": "code",
   "execution_count": 4,
   "metadata": {},
   "outputs": [
    {
     "data": {
      "text/plain": [
       "CPolar (generic function with 1 method)"
      ]
     },
     "execution_count": 4,
     "metadata": {},
     "output_type": "execute_result"
    }
   ],
   "source": [
    "function ToTuple(a) #This function where used on the code of jarvis\n",
    "    c=[ ];\n",
    "    p=length(a);\n",
    "    for i in 1:p\n",
    "        push!(c,(a[i][1],a[i][2]))\n",
    "        #convert(Tuple{Float64,Float64},c[i]);\n",
    "    end\n",
    "    c=convert(Array{Tuple{Float64,Float64},1},c);\n",
    "    return c\n",
    "end\n",
    "\n",
    "function swap(P,p1,p2) #This function swap two points on the array P: p1-->p2; p2-->p1\n",
    "    temp = 0;\n",
    "    temp = findfirst(P,p2);\n",
    "    P[findfirst(P,p1)]=p2;\n",
    "    P[temp]=p1;\n",
    "    return P\n",
    "end\n",
    "\n",
    "function CookLowest(P) #This function find the point with lowest y-coordinate and put it in first position\n",
    "    Pp=[]; temp1=0; temp2=0; Pp=P;\n",
    "    Pp=sort(P, lt=(x,y)->isless(x[2],y[2]));\n",
    "    \n",
    "    if P[1]!=Pp[1]\n",
    "        P=swap(P,P[1],Pp[1]);\n",
    "    else\n",
    "        return P\n",
    "    end\n",
    "    \n",
    "    return P\n",
    "    \n",
    "end\n",
    "\n",
    "function rot1(a,b,c) #ro1>0 if CCW, 0>rot1 if CW & zero if colinear\n",
    "    return a[1]*b[2]-a[2]*b[1] + a[2]*c[1] - a[1]*c[2] + b[1]*c[2]-c[1]*b[2];\n",
    "end\n",
    "\n",
    "function dist(a,b) #This function compute the euclidian distance between two points of the plane\n",
    "    c=a.-b; c=c.^2; dit=sqrt(sum(c));\n",
    "    return dit\n",
    "end\n",
    "\n",
    "function compare(p0,p1,p2) #This function return 1 if is CCW, -1 if is CW & 0 if are colinear\n",
    "    L1=L2=0; r1=r2=[];\n",
    "    if rot1(p0,p1,p2)>0\n",
    "        return -1\n",
    "    elseif rot1(p0,p1,p2)<0\n",
    "        return 1\n",
    "    else\n",
    "        r1=p1.-p0;\n",
    "        r2=p2.-p0;\n",
    "        L1=(r1⋅r1);\n",
    "        L2=(r2⋅r2);\n",
    "        if L1<L2\n",
    "            return -1\n",
    "        elseif L2<L1\n",
    "            return 1\n",
    "        else\n",
    "            return 0\n",
    "        end\n",
    "    end\n",
    "end\n",
    "\n",
    "function CPolar(P) #Order the points about P[1] (the point of lowest y-coordinate) on the \"angle order\"\n",
    "    for i in 2:length(P)\n",
    "        for j in (i+1):length(P)\n",
    "        \n",
    "            if compare(P[1],P[i],P[j])==-1\n",
    "                continue;\n",
    "            elseif compare(P[1],P[i],P[j])==1\n",
    "                P=swap(P,P[i],P[j]);\n",
    "            end\n",
    "        end\n",
    "        \n",
    "    end\n",
    "    return P\n",
    "end"
   ]
  },
  {
   "cell_type": "markdown",
   "metadata": {},
   "source": [
    "The next function is the \"main\" function. Again, the arguments must be type Array{Array{},} (and array of arrays), and the CHP will be of the same type.\n",
    "\n",
    "If you want to have the type-plot data I suggest you use directly the __CH GH B(P)__ cause it return, in order:\n",
    "\n",
    "1. The intial points in the format Array{Tuple{-,-},1} ready to plot\n",
    "2. CHPp is the convex hull in the format Array{Tuple{-,-},1}, so ready to plot.\n",
    "3. CHP is the convex hull in the format Array{Array{-,-}} if you need do more, ready to use it.\n"
   ]
  },
  {
   "cell_type": "code",
   "execution_count": 5,
   "metadata": {},
   "outputs": [
    {
     "data": {
      "text/plain": [
       "CH_GH_B (generic function with 1 method)"
      ]
     },
     "execution_count": 5,
     "metadata": {},
     "output_type": "execute_result"
    }
   ],
   "source": [
    "function CH_GH(P) #Compute the Convex Hull with the Graham Scan\n",
    "    CHP=[]; \n",
    "    P=CookLowest(P);\n",
    "    P=CPolar(P);\n",
    "    \n",
    "    CHP=[P[1],P[2]];\n",
    "    for i in range(2,length(P)-1)\n",
    "                \n",
    "        while rot1(CHP[length(CHP)-1],CHP[length(CHP)],P[i])<0\n",
    "          pop!(CHP)\n",
    "        end\n",
    "        push!(CHP,P[i])\n",
    "        CHP=unique(CHP)\n",
    "    end\n",
    "    push!(CHP,P[1]);\n",
    "    return(CHP)\n",
    "    \n",
    "end\n",
    "\n",
    "function CH_GH_B(P) #This is to can plot the convex hull\n",
    "    CHPp=[];        \n",
    "    CHP=CH_GH(P);\n",
    "    CHPp=ToTuple(CHP);\n",
    "    P=ToTuple(P);\n",
    "    return(P,CHPp,CHP)\n",
    "end"
   ]
  },
  {
   "cell_type": "markdown",
   "metadata": {},
   "source": [
    "Enjoy it!"
   ]
  }
 ],
 "metadata": {
  "kernelspec": {
   "display_name": "Julia 0.6.2",
   "language": "julia",
   "name": "julia-0.6"
  },
  "language_info": {
   "file_extension": ".jl",
   "mimetype": "application/julia",
   "name": "julia",
   "version": "0.6.2"
  },
  "latex_envs": {
   "LaTeX_envs_menu_present": true,
   "autoclose": false,
   "autocomplete": true,
   "bibliofile": "biblio.bib",
   "cite_by": "apalike",
   "current_citInitial": 1,
   "eqLabelWithNumbers": true,
   "eqNumInitial": 1,
   "hotkeys": {
    "equation": "Ctrl-E",
    "itemize": "Ctrl-I"
   },
   "labels_anchors": false,
   "latex_user_defs": false,
   "report_style_numbering": false,
   "user_envs_cfg": false
  }
 },
 "nbformat": 4,
 "nbformat_minor": 2
}
